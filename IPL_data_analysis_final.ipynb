{
 "cells": [
  {
   "cell_type": "code",
   "execution_count": null,
   "metadata": {
    "id": "oSPIoBM6AOKY"
   },
   "outputs": [],
   "source": [
    "import pandas as pd"
   ]
  },
  {
   "cell_type": "code",
   "execution_count": null,
   "metadata": {
    "id": "-Qi3GLYcAQSt"
   },
   "outputs": [],
   "source": [
    "import numpy as np\n",
    "import matplotlib.pyplot as plt #visualization\n",
    "import seaborn as sns #modern visualization\n",
    "%matplotlib inline"
   ]
  },
  {
   "cell_type": "markdown",
   "metadata": {
    "id": "K4rjUyH8ltfb"
   },
   "source": [
    "## Read Data"
   ]
  },
  {
   "cell_type": "code",
   "execution_count": null,
   "metadata": {
    "id": "rHc1s7t_ASwd"
   },
   "outputs": [],
   "source": [
    "data=pd.read_csv(\"matches.csv\")"
   ]
  },
  {
   "cell_type": "code",
   "execution_count": null,
   "metadata": {
    "colab": {
     "base_uri": "https://localhost:8080/",
     "height": 445
    },
    "id": "rPtuqZD9AaDh",
    "outputId": "fb604052-082e-4f95-c06d-cd7aee6413d5"
   },
   "outputs": [],
   "source": [
    "data.head()"
   ]
  },
  {
   "cell_type": "markdown",
   "metadata": {
    "id": "wToeqrVWlw5C"
   },
   "source": [
    "## shape of the data"
   ]
  },
  {
   "cell_type": "code",
   "execution_count": null,
   "metadata": {
    "colab": {
     "base_uri": "https://localhost:8080/",
     "height": 34
    },
    "id": "STh-IfaGAbL0",
    "outputId": "4cf09358-5464-4424-f037-e98db9a4f2f0"
   },
   "outputs": [],
   "source": [
    "data.shape"
   ]
  },
  {
   "cell_type": "code",
   "execution_count": null,
   "metadata": {
    "colab": {
     "base_uri": "https://localhost:8080/",
     "height": 255
    },
    "id": "SVOdqTeAAe5u",
    "outputId": "d50dffcf-c96b-4f91-a6f9-777a8d7528dd"
   },
   "outputs": [],
   "source": [
    "data.info"
   ]
  },
  {
   "cell_type": "markdown",
   "metadata": {
    "id": "rcSQy1-wl0Tt"
   },
   "source": [
    "## Total columns"
   ]
  },
  {
   "cell_type": "code",
   "execution_count": null,
   "metadata": {
    "colab": {
     "base_uri": "https://localhost:8080/",
     "height": 102
    },
    "id": "jnbSIgZfAf8q",
    "outputId": "4eef20c8-7b51-46bf-919b-a2900a153ed1"
   },
   "outputs": [],
   "source": [
    "data.columns"
   ]
  },
  {
   "cell_type": "markdown",
   "metadata": {
    "id": "aDmra-mPl2T7"
   },
   "source": [
    "## checking null values"
   ]
  },
  {
   "cell_type": "code",
   "execution_count": null,
   "metadata": {
    "colab": {
     "base_uri": "https://localhost:8080/",
     "height": 340
    },
    "id": "R2ZnDchwAhFz",
    "outputId": "8c3672d6-eb7d-44ff-e1de-0ff71bf23567"
   },
   "outputs": [],
   "source": [
    "data.isna().any()"
   ]
  },
  {
   "cell_type": "code",
   "execution_count": null,
   "metadata": {
    "colab": {
     "base_uri": "https://localhost:8080/",
     "height": 297
    },
    "id": "QBMBEJZLAj46",
    "outputId": "09fb43ca-2fca-484e-fb74-527b53310b2e"
   },
   "outputs": [],
   "source": [
    "data.describe()"
   ]
  },
  {
   "cell_type": "markdown",
   "metadata": {
    "id": "kyOE9s0Kl6dp"
   },
   "source": [
    "## Total match id"
   ]
  },
  {
   "cell_type": "code",
   "execution_count": null,
   "metadata": {
    "colab": {
     "base_uri": "https://localhost:8080/",
     "height": 34
    },
    "id": "4rkt6Uu9AoC9",
    "outputId": "b5700935-c4f5-4223-b767-1cf265ea0373"
   },
   "outputs": [],
   "source": [
    "data['id'].count()"
   ]
  },
  {
   "cell_type": "markdown",
   "metadata": {
    "id": "6MpaXFjWl9JN"
   },
   "source": [
    "## Unique season"
   ]
  },
  {
   "cell_type": "code",
   "execution_count": null,
   "metadata": {
    "colab": {
     "base_uri": "https://localhost:8080/",
     "height": 68
    },
    "id": "ob_BJybJBAHN",
    "outputId": "920c87a2-1463-427b-8e2d-f8eb68831b97"
   },
   "outputs": [],
   "source": [
    "data['Season'].unique()"
   ]
  },
  {
   "cell_type": "markdown",
   "metadata": {
    "id": "VSddMA2OmAgG"
   },
   "source": [
    "## Max run "
   ]
  },
  {
   "cell_type": "code",
   "execution_count": null,
   "metadata": {
    "colab": {
     "base_uri": "https://localhost:8080/",
     "height": 34
    },
    "id": "ePVZlteSBGpC",
    "outputId": "df3ce385-00fe-433f-bc9d-22fc737faa4a"
   },
   "outputs": [],
   "source": [
    "data['win_by_runs'].max()"
   ]
  },
  {
   "cell_type": "markdown",
   "metadata": {
    "id": "2f25g3HemEzL"
   },
   "source": [
    "## team details for max run"
   ]
  },
  {
   "cell_type": "code",
   "execution_count": null,
   "metadata": {
    "id": "FruJe2RufZoc"
   },
   "outputs": [],
   "source": []
  },
  {
   "cell_type": "code",
   "execution_count": null,
   "metadata": {
    "colab": {
     "base_uri": "https://localhost:8080/",
     "height": 34
    },
    "id": "pJQVhh6-CRnR",
    "outputId": "9941d968-f661-4001-800b-6ed3199010a7"
   },
   "outputs": [],
   "source": [
    "data['win_by_runs'].idxmax()"
   ]
  },
  {
   "cell_type": "code",
   "execution_count": null,
   "metadata": {
    "colab": {
     "base_uri": "https://localhost:8080/",
     "height": 359
    },
    "id": "t-l4GNoDBRa4",
    "outputId": "89c64c0c-c0cb-4704-be7b-8f54cb9d9321"
   },
   "outputs": [],
   "source": [
    "data.iloc[data['win_by_runs'].idxmax()]"
   ]
  },
  {
   "cell_type": "code",
   "execution_count": null,
   "metadata": {
    "colab": {
     "base_uri": "https://localhost:8080/",
     "height": 107
    },
    "id": "AVlSGeMCDL3T",
    "outputId": "7841f906-1df8-4d74-c9b1-ba83d10a4667"
   },
   "outputs": [],
   "source": [
    "data.columns"
   ]
  },
  {
   "cell_type": "markdown",
   "metadata": {
    "id": "q2or1qahmI7o"
   },
   "source": [
    "## Team details for win by wickets"
   ]
  },
  {
   "cell_type": "code",
   "execution_count": null,
   "metadata": {
    "colab": {
     "base_uri": "https://localhost:8080/",
     "height": 359
    },
    "id": "hnDQ_E6qCQi3",
    "outputId": "0e7216d1-d077-4462-933f-31db6d602e6d"
   },
   "outputs": [],
   "source": [
    "data.iloc[data['win_by_wickets'].idxmax()]"
   ]
  },
  {
   "cell_type": "code",
   "execution_count": null,
   "metadata": {
    "colab": {
     "base_uri": "https://localhost:8080/",
     "height": 54
    },
    "id": "l3wRUhPbgTLO",
    "outputId": "547506dd-b02b-4d9a-d545-dda0cf98674d"
   },
   "outputs": [],
   "source": [
    "data.groupby(['Season', 'city']).groups"
   ]
  },
  {
   "cell_type": "markdown",
   "metadata": {
    "id": "hHB8ZcmVmPOp"
   },
   "source": [
    "## highest match in which season"
   ]
  },
  {
   "cell_type": "code",
   "execution_count": null,
   "metadata": {
    "colab": {
     "base_uri": "https://localhost:8080/",
     "height": 229
    },
    "id": "ePMr2SKECBxe",
    "outputId": "cb1226ad-ced2-42c4-998d-e70182d43c58"
   },
   "outputs": [],
   "source": [
    "\n",
    "fig_dims = (20, 4)\n",
    "fig, ax = plt.subplots(figsize=fig_dims)\n",
    "sns.countplot(x='Season', ax=ax,data=data)\n",
    "plt.show()"
   ]
  },
  {
   "cell_type": "markdown",
   "metadata": {
    "id": "3RODWAHnmUFl"
   },
   "source": [
    "## City wise  visualization"
   ]
  },
  {
   "cell_type": "code",
   "execution_count": null,
   "metadata": {
    "colab": {
     "base_uri": "https://localhost:8080/",
     "height": 177
    },
    "id": "wedtB8sGgWJ0",
    "outputId": "009ef3ba-a166-4040-e924-c81b5fdaec40"
   },
   "outputs": [],
   "source": [
    "fig_dims = (30, 4)\n",
    "fig, ax = plt.subplots(figsize=fig_dims)\n",
    "sns.countplot(x='city', ax=ax, data=data)\n"
   ]
  },
  {
   "cell_type": "markdown",
   "metadata": {
    "id": "7peS69c4ma8i"
   },
   "source": [
    "##The most successful IPL Team\n"
   ]
  },
  {
   "cell_type": "code",
   "execution_count": null,
   "metadata": {
    "colab": {
     "base_uri": "https://localhost:8080/",
     "height": 296
    },
    "id": "WlJtoQwEDght",
    "outputId": "83e417d2-5917-43ea-e2ca-4134fbb589a9"
   },
   "outputs": [],
   "source": [
    "data1 = data.winner.value_counts()\n",
    "sns.barplot(y = data1.index, x = data1)"
   ]
  },
  {
   "cell_type": "markdown",
   "metadata": {
    "id": "JZrjyILMmejj"
   },
   "source": [
    "## Lowest win by wicket tea details"
   ]
  },
  {
   "cell_type": "code",
   "execution_count": null,
   "metadata": {
    "colab": {
     "base_uri": "https://localhost:8080/",
     "height": 34
    },
    "id": "uC6ytgkpEQIo",
    "outputId": "be0db55b-7397-4be7-c923-b3b8ff668142"
   },
   "outputs": [],
   "source": [
    "data['win_by_wickets'].idxmin()"
   ]
  },
  {
   "cell_type": "code",
   "execution_count": null,
   "metadata": {
    "colab": {
     "base_uri": "https://localhost:8080/",
     "height": 340
    },
    "id": "QTOKIuMyEcTy",
    "outputId": "90f60545-32a2-4c1c-d378-a64c48d005f6"
   },
   "outputs": [],
   "source": [
    "data.iloc[data['win_by_wickets'].idxmin()]"
   ]
  },
  {
   "cell_type": "markdown",
   "metadata": {
    "id": "ARp-eZYommux"
   },
   "source": [
    "## Probability of win if you won in the toss"
   ]
  },
  {
   "cell_type": "code",
   "execution_count": null,
   "metadata": {
    "colab": {
     "base_uri": "https://localhost:8080/",
     "height": 68
    },
    "id": "YyLJQnpliAnB",
    "outputId": "c09a30be-ce60-490c-f660-a38de9339db4"
   },
   "outputs": [],
   "source": [
    "probability_of_win = data['toss_winner'] == data['winner']\n",
    "\n",
    "probability_of_win.groupby(probability_of_win).size()"
   ]
  },
  {
   "cell_type": "code",
   "execution_count": null,
   "metadata": {
    "colab": {
     "base_uri": "https://localhost:8080/",
     "height": 336
    },
    "id": "GiQ3zNFBiXEB",
    "outputId": "65591215-5482-4f36-914e-54bd6f4a0631"
   },
   "outputs": [],
   "source": [
    "sns.countplot(probability_of_win)"
   ]
  },
  {
   "cell_type": "markdown",
   "metadata": {
    "id": "5MbrsHKRjCbu"
   },
   "source": [
    "The Number of matches played in each venue\n"
   ]
  },
  {
   "cell_type": "code",
   "execution_count": null,
   "metadata": {
    "colab": {
     "base_uri": "https://localhost:8080/",
     "height": 102
    },
    "id": "Jn193oBqim8J",
    "outputId": "f1631d5a-38bb-45f9-a9fa-8fb840b57adc"
   },
   "outputs": [],
   "source": [
    "data.columns"
   ]
  },
  {
   "cell_type": "code",
   "execution_count": null,
   "metadata": {
    "id": "2GDb0fJqjE1-"
   },
   "outputs": [],
   "source": []
  },
  {
   "cell_type": "markdown",
   "metadata": {
    "id": "JB04B7MqkLxo"
   },
   "source": [
    "## Season based winner"
   ]
  },
  {
   "cell_type": "code",
   "execution_count": null,
   "metadata": {
    "colab": {
     "base_uri": "https://localhost:8080/",
     "height": 238
    },
    "id": "w_bV1Dn-jMfH",
    "outputId": "1d19ca9f-dad7-42a7-fd36-00a41439651a"
   },
   "outputs": [],
   "source": [
    "data.groupby('Season')['winner'].value_counts()"
   ]
  },
  {
   "cell_type": "code",
   "execution_count": null,
   "metadata": {
    "id": "ZpOP7wOSjSeW"
   },
   "outputs": [],
   "source": [
    "data['date']= pd.to_datetime(data['date'])"
   ]
  },
  {
   "cell_type": "code",
   "execution_count": null,
   "metadata": {
    "id": "zdpL01znkXCK"
   },
   "outputs": [],
   "source": [
    "data['month']=data['date'].dt.month"
   ]
  },
  {
   "cell_type": "code",
   "execution_count": null,
   "metadata": {
    "id": "lP1OgB6Akhg6"
   },
   "outputs": [],
   "source": [
    "data['year']=data['date'].dt.year"
   ]
  },
  {
   "cell_type": "code",
   "execution_count": null,
   "metadata": {
    "colab": {
     "base_uri": "https://localhost:8080/",
     "height": 445
    },
    "id": "iA7Alifqkn_W",
    "outputId": "c63bcfae-cb6a-43a8-f84e-c7593c9f1d21"
   },
   "outputs": [],
   "source": [
    "data.head()"
   ]
  },
  {
   "cell_type": "code",
   "execution_count": null,
   "metadata": {
    "colab": {
     "base_uri": "https://localhost:8080/",
     "height": 68
    },
    "id": "IpWs9k-Ukspw",
    "outputId": "33358220-3d33-43d6-b4aa-410adea3ef78"
   },
   "outputs": [],
   "source": [
    "data['toss_decision'].value_counts()"
   ]
  },
  {
   "cell_type": "code",
   "execution_count": null,
   "metadata": {
    "colab": {
     "base_uri": "https://localhost:8080/",
     "height": 221
    },
    "id": "DHgFoju4k5PU",
    "outputId": "0c6f7528-2d6a-4089-b3f8-5ba561cd3396"
   },
   "outputs": [],
   "source": [
    "data['player_of_match'].value_counts()"
   ]
  },
  {
   "cell_type": "code",
   "execution_count": null,
   "metadata": {
    "colab": {
     "base_uri": "https://localhost:8080/",
     "height": 578
    },
    "id": "P6NnwPxXlVVD",
    "outputId": "1cac1304-2345-4f10-bd94-86d30837a5b7"
   },
   "outputs": [],
   "source": [
    "data['city'].value_counts()"
   ]
  },
  {
   "cell_type": "code",
   "execution_count": null,
   "metadata": {
    "id": "Hn99wREvldIB"
   },
   "outputs": [],
   "source": []
  },
  {
   "cell_type": "code",
   "execution_count": null,
   "metadata": {
    "id": "LKK4XxYVlpIh"
   },
   "outputs": [],
   "source": []
  }
 ],
 "metadata": {
  "colab": {
   "collapsed_sections": [],
   "name": "IPL_data_analysis_final.ipynb",
   "provenance": []
  },
  "kernelspec": {
   "display_name": "Python 3",
   "language": "python",
   "name": "python3"
  },
  "language_info": {
   "codemirror_mode": {
    "name": "ipython",
    "version": 3
   },
   "file_extension": ".py",
   "mimetype": "text/x-python",
   "name": "python",
   "nbconvert_exporter": "python",
   "pygments_lexer": "ipython3",
   "version": "3.8.3"
  }
 },
 "nbformat": 4,
 "nbformat_minor": 4
}
